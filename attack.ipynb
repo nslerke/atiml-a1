{
  "cells": [
    {
      "cell_type": "markdown",
      "metadata": {
        "id": "0gptEv_UkLPf"
      },
      "source": [
        "# Code template for hand-in on reconstruction attacks.\n",
        "\n",
        "Advanced Topics in Machine Learning, U. Copenhagen, fall 2024\n",
        "\n",
        "Created by Rasmus Pagh with minor edits by Thomas Christensen\n",
        "\n",
        "Queries on a hidden dataset x from {-1,+1}^100 can be made via the query method below\n",
        "which calls a web API that allows dot product queries with vectors in {-1,+1}^100.\n",
        "To protect data, Laplace noise is added to responses. Using the techniques you have\n",
        "seen in the lecture it is possible to partially reconstruct the dataset using 200 queries.\n",
        "To make sure that you get a unique challenge, choose any unique string as your challenge\n",
        "identifier. The web API will keep track of the number of queries made for each identifier."
      ]
    },
    {
      "cell_type": "markdown",
      "metadata": {
        "id": "dyLpL0gdnquz"
      },
      "source": [
        "# Support function for querying the web API"
      ]
    },
    {
      "cell_type": "code",
      "execution_count": 1,
      "metadata": {
        "id": "L1Mb8xGZkTPO"
      },
      "outputs": [],
      "source": [
        "import numpy as np\n",
        "import requests as rq\n",
        "\n",
        "# Retrieve answer to challenge for a given query\n",
        "def query(challenge_id, query_vector, submit=False):\n",
        "    # Only alphanumeric challenge_id and vextor entries in {-1,+1} are allowed:\n",
        "    assert(challenge_id.isalnum())\n",
        "    assert(\n",
        "        np.max(\n",
        "            np.minimum(\n",
        "                np.abs(query_vector-1),\n",
        "                np.abs(query_vector+1)\n",
        "            )\n",
        "        ) == 0)\n",
        "\n",
        "    # if query array is 1d, make it 2d\n",
        "    if query_vector.ndim == 1:\n",
        "        query_vector = query_vector.reshape(1,-1)\n",
        "\n",
        "    payload = { 'challengeid': challenge_id, 'submit': submit,\n",
        "                'query': str(query_vector.tolist()) }\n",
        "    response = rq.post(\"https://baconbreaker.pythonanywhere.com/query\", data = payload).json()\n",
        "    if submit == False:\n",
        "        return np.array(eval(response['result']))\n",
        "    else:\n",
        "        return response['result']"
      ]
    },
    {
      "cell_type": "markdown",
      "metadata": {
        "id": "mgh9MtPmnyEl"
      },
      "source": [
        "# Making random queries to the API"
      ]
    },
    {
      "cell_type": "code",
      "execution_count": 2,
      "metadata": {},
      "outputs": [],
      "source": [
        "from scipy.optimize import linprog"
      ]
    },
    {
      "cell_type": "code",
      "execution_count": 3,
      "metadata": {},
      "outputs": [],
      "source": [
        "challenge_id = 'testing' # identifier for hidden dataset\n",
        "n = 100 # number of entries in hidden dataset\n",
        "num_queries = 2*n # number of queries to be asked"
      ]
    },
    {
      "cell_type": "code",
      "execution_count": 4,
      "metadata": {
        "colab": {
          "base_uri": "https://localhost:8080/"
        },
        "id": "rACAhWmE9zkq",
        "outputId": "56510295-5822-4d72-a4ff-0fa5f90de0eb"
      },
      "outputs": [],
      "source": [
        "queries = np.random.choice([-1,+1], size=(num_queries,n)) # Set of random queries\n",
        "query_results = query(challenge_id, queries)\n"
      ]
    },
    {
      "cell_type": "code",
      "execution_count": 5,
      "metadata": {},
      "outputs": [
        {
          "name": "stdout",
          "output_type": "stream",
          "text": [
            "(200, 100)\n",
            "[ 1  1 -1 -1 -1 -1  1 -1 -1 -1  1  1  1 -1 -1 -1 -1  1 -1 -1  1 -1 -1  1\n",
            " -1  1 -1  1 -1  1  1 -1  1 -1 -1  1 -1  1  1  1 -1 -1  1  1 -1 -1 -1  1\n",
            "  1  1  1 -1 -1 -1 -1  1  1 -1  1 -1  1 -1 -1 -1  1 -1  1 -1  1  1  1  1\n",
            " -1 -1 -1  1 -1 -1 -1  1 -1 -1  1  1 -1 -1  1  1 -1  1 -1  1  1 -1  1  1\n",
            " -1 -1 -1  1]\n"
          ]
        }
      ],
      "source": [
        "print(queries.shape)\n",
        "print(queries[0])"
      ]
    },
    {
      "cell_type": "code",
      "execution_count": 6,
      "metadata": {},
      "outputs": [
        {
          "name": "stdout",
          "output_type": "stream",
          "text": [
            "(200,)\n",
            "[ 29.  13.  -8.   9. -19.   4.  -4.  -6.  -8. -12.  -9.  20.   8.  24.\n",
            "  13.   2.   9.  17. -10.  -1. -16.   7. -28.  -8.   2.  22.  13.  30.\n",
            "   5.   1.  11.  -0. -37.   5. -26. -10.  13.  10.  17.  19.   4.   5.\n",
            " -12.  29.  -4.   2.  25.  -3.   8.  14. -33. -28. -37. -16. -26.   4.\n",
            "   8. -16. -22.  -2.  -3.  30.  -5.  33.   3.  13.  -0.   2.   3. -26.\n",
            " -29.   2.   9.  29.  17.   1. -22. -21.  19. -26.  -3.  11.  -2.  42.\n",
            " -12. -31.  -9. -14.   9.   4.  14.  -4. -16. -27.  27.  -1.  13. -26.\n",
            " -15.  27.  14. -45.   4.  -2.  45.  24.  27. -29. -10. -14.  -3. -11.\n",
            "  -8. -15.  -3.  10. -11.  13.  17.   4.   2.  19. -11.   3.  -7.  -5.\n",
            "   8.   6.  -3.  -4. -11.   2.  14. -23. -23.  -1.   4. -41. -16.   0.\n",
            "  -2.  -7.  10. -15.   3.   9.  -8. -15. -19.  20. -15.  12. -46.  -1.\n",
            "   3. -12.   9. -47.  -9.   4.  -8.   3.   4.  -0.   1.   3. -33.   6.\n",
            "   8. -16.   2.  22.  -9.   9.  -4. -31.  34. -32.  -4.  13.  -7. -35.\n",
            "  27.  -7.   7.  -5.  -5.   7.  -5.  36.   2.  -9.  21.  -3.   8.  15.\n",
            "   8.   8. -44.   1.]\n"
          ]
        }
      ],
      "source": [
        "print(query_results.shape)\n",
        "print(query_results)"
      ]
    },
    {
      "cell_type": "code",
      "execution_count": 7,
      "metadata": {},
      "outputs": [],
      "source": [
        "optimized_result = linprog(\n",
        "    query_results @ queries,\n",
        "    A_ub=queries,\n",
        "    b_ub=np.abs(query_results),\n",
        "    bounds=(-1,1)\n",
        ")"
      ]
    },
    {
      "cell_type": "code",
      "execution_count": 8,
      "metadata": {},
      "outputs": [
        {
          "data": {
            "text/plain": [
              "        message: Optimization terminated successfully. (HiGHS Status 7: Optimal)\n",
              "        success: True\n",
              "         status: 0\n",
              "            fun: -19688.69035206626\n",
              "              x: [ 2.351e-01 -7.953e-01 ...  1.000e+00 -6.252e-01]\n",
              "            nit: 73\n",
              "          lower:  residual: [ 1.235e+00  2.047e-01 ...  2.000e+00\n",
              "                              3.748e-01]\n",
              "                 marginals: [ 0.000e+00  0.000e+00 ...  0.000e+00\n",
              "                              0.000e+00]\n",
              "          upper:  residual: [ 7.649e-01  1.795e+00 ...  0.000e+00\n",
              "                              1.625e+00]\n",
              "                 marginals: [ 0.000e+00  0.000e+00 ... -2.728e+02\n",
              "                              0.000e+00]\n",
              "          eqlin:  residual: []\n",
              "                 marginals: []\n",
              "        ineqlin:  residual: [ 3.038e+01  2.396e+01 ...  3.266e+01\n",
              "                              1.438e+00]\n",
              "                 marginals: [-0.000e+00 -0.000e+00 ... -0.000e+00\n",
              "                             -0.000e+00]\n",
              " mip_node_count: 0\n",
              " mip_dual_bound: 0.0\n",
              "        mip_gap: 0.0"
            ]
          },
          "execution_count": 8,
          "metadata": {},
          "output_type": "execute_result"
        }
      ],
      "source": [
        "optimized_result"
      ]
    },
    {
      "cell_type": "code",
      "execution_count": 9,
      "metadata": {},
      "outputs": [],
      "source": [
        "foo = -optimized_result.x"
      ]
    },
    {
      "cell_type": "code",
      "execution_count": 10,
      "metadata": {},
      "outputs": [],
      "source": [
        "foo[foo >= 0] = 1\n",
        "foo[foo < 0] = -1"
      ]
    },
    {
      "cell_type": "code",
      "execution_count": 11,
      "metadata": {},
      "outputs": [
        {
          "data": {
            "text/plain": [
              "(100,)"
            ]
          },
          "execution_count": 11,
          "metadata": {},
          "output_type": "execute_result"
        }
      ],
      "source": [
        "foo.shape"
      ]
    },
    {
      "cell_type": "code",
      "execution_count": 12,
      "metadata": {},
      "outputs": [
        {
          "name": "stdout",
          "output_type": "stream",
          "text": [
            "\n",
            "Reconstruction attack achieves fraction 0.79 correct values\n"
          ]
        }
      ],
      "source": [
        "best_query_result = query(\"testing\", foo, submit=True)\n",
        "print(f\"\\nReconstruction attack achieves fraction {(1 + best_query_result / n) / 2} correct values\")"
      ]
    },
    {
      "cell_type": "markdown",
      "metadata": {
        "id": "uiUoCqxtknZj"
      },
      "source": [
        "# Baseline reconstruction attack: Guess equals the best query\n",
        "\n",
        "Copy the notebook and replace with your attack. The first submission for a given challenge_id is stored on the server and on the leaderboard: http://baconbreaker.pythonanywhere.com/leaderboard/?n=100"
      ]
    },
    {
      "cell_type": "markdown",
      "metadata": {
        "id": "wBzhULS8lfJf"
      },
      "source": [
        "**Tip**: to solve a linear program you can use the following import:\n",
        "\n",
        "```\n",
        "from scipy.optimize import linprog\n",
        "```\n",
        "\n"
      ]
    },
    {
      "cell_type": "code",
      "execution_count": 13,
      "metadata": {
        "colab": {
          "base_uri": "https://localhost:8080/"
        },
        "id": "KNEVYeK5klgu",
        "outputId": "28db8286-ea7e-45a1-cefd-b70c3f77ac34"
      },
      "outputs": [],
      "source": [
        "# best_query_number = np.argmax(query_results)\n",
        "# best_query = queries[best_query_number]\n",
        "# best_query_result = query(challenge_id, best_query, submit=True)\n",
        "# print(f\"\\nReconstruction attack achieves fraction {(1 + best_query_result / n) / 2} correct values\")"
      ]
    }
  ],
  "metadata": {
    "colab": {
      "provenance": []
    },
    "kernelspec": {
      "display_name": "Python 3",
      "name": "python3"
    },
    "language_info": {
      "codemirror_mode": {
        "name": "ipython",
        "version": 3
      },
      "file_extension": ".py",
      "mimetype": "text/x-python",
      "name": "python",
      "nbconvert_exporter": "python",
      "pygments_lexer": "ipython3",
      "version": "3.10.12"
    }
  },
  "nbformat": 4,
  "nbformat_minor": 0
}
