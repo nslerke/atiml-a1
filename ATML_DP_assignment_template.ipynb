{
  "nbformat": 4,
  "nbformat_minor": 0,
  "metadata": {
    "colab": {
      "provenance": []
    },
    "kernelspec": {
      "name": "python3",
      "display_name": "Python 3"
    },
    "language_info": {
      "name": "python"
    }
  },
  "cells": [
    {
      "cell_type": "markdown",
      "source": [
        "# Code template for hand-in on reconstruction attacks.\n",
        "\n",
        "Advanced Topics in Machine Learning, U. Copenhagen, fall 2024\n",
        "\n",
        "Created by Rasmus Pagh with minor edits by Thomas Christensen\n",
        "\n",
        "Queries on a hidden dataset x from {-1,+1}^100 can be made via the query method below\n",
        "which calls a web API that allows dot product queries with vectors in {-1,+1}^100.\n",
        "To protect data, Laplace noise is added to responses. Using the techniques you have\n",
        "seen in the lecture it is possible to partially reconstruct the dataset using 200 queries.\n",
        "To make sure that you get a unique challenge, choose any unique string as your challenge\n",
        "identifier. The web API will keep track of the number of queries made for each identifier."
      ],
      "metadata": {
        "id": "0gptEv_UkLPf"
      }
    },
    {
      "cell_type": "markdown",
      "source": [
        "# Support function for querying the web API"
      ],
      "metadata": {
        "id": "dyLpL0gdnquz"
      }
    },
    {
      "cell_type": "code",
      "source": [
        "import numpy as np\n",
        "import requests as rq\n",
        "\n",
        "# Retrieve answer to challenge for a given query\n",
        "def query(challenge_id, query_vector, submit=False):\n",
        "    # Only alphanumeric challenge_id and vextor entries in {-1,+1} are allowed:\n",
        "    assert(challenge_id.isalnum())\n",
        "    assert(np.max(np.minimum(np.abs(query_vector-1),np.abs(query_vector+1)))==0)\n",
        "\n",
        "    # if query array is 1d, make it 2d\n",
        "    if query_vector.ndim == 1:\n",
        "        query_vector = query_vector.reshape(1,-1)\n",
        "\n",
        "    payload = { 'challengeid': challenge_id, 'submit': submit,\n",
        "                'query': str(query_vector.tolist()) }\n",
        "    response = rq.post(\"https://baconbreaker.pythonanywhere.com/query\", data = payload).json()\n",
        "    if submit == False:\n",
        "        return np.array(eval(response['result']))\n",
        "    else:\n",
        "        return response['result']"
      ],
      "metadata": {
        "id": "L1Mb8xGZkTPO"
      },
      "execution_count": null,
      "outputs": []
    },
    {
      "cell_type": "markdown",
      "source": [
        "# Making random queries to the API"
      ],
      "metadata": {
        "id": "mgh9MtPmnyEl"
      }
    },
    {
      "cell_type": "code",
      "execution_count": null,
      "metadata": {
        "id": "rACAhWmE9zkq",
        "colab": {
          "base_uri": "https://localhost:8080/"
        },
        "outputId": "56510295-5822-4d72-a4ff-0fa5f90de0eb"
      },
      "outputs": [
        {
          "output_type": "stream",
          "name": "stdout",
          "text": [
            "[-15.  -8.   2.  -6. -11.   3.  -5.  11.   3. -28.   2.  11. -21. -40.\n",
            "  30.   4.   1.   7.  30.  -5.  -5.  13.  -3. -34.   2. -15.   3.   1.\n",
            " -15. -42.   0.  25.  14. -46. -18.  30.  -1. -17.  17. -19.  -4.  11.\n",
            " -21.  19. -18.  28. -14.  12. -13.  -3. -42. -10.  -5. -12. -18.  -2.\n",
            " -24.  11.  28. -11.  13.  22.  23.   8.   9.   6.  24.  17.  42.   1.\n",
            "  12. -48.  12.  14. -10.   6. -17.   4.  12. -35. -27.  15.  13.  -3.\n",
            " -12. -24.   5. -33.  -6. -14. -12.  16. -13.  -5.   7.   2.  16. -10.\n",
            " -17.  -0.   1.  13.   6.  -3.  -1.   8.   1.   8.   5.   2.  -2.  -7.\n",
            " -22.   2.  27.  11. -11. -62. -15. -12.  -6. -20.  24. -10. -13.   5.\n",
            " -34.   0.  -5.  -1. -29.   7.  43.   5.  -7. -16. -10.   1.  19.  27.\n",
            "   2.  -6.  -7.   2.  29. -43.  -4. -29.  18. -12. -12.  -8.   6.  -8.\n",
            "  18.  -7.  14.   9.   5.  21.  30.  -1. -16.   2.  17.  12.  13. -14.\n",
            "  -1. -21.   1.  23.   7. -19. -19.   8.  24. -24. -33. -10.  16.  18.\n",
            "   1.  -6.   1.   5.   8.   3.  17. -26. -22. -11.  -0.  -3.  -2.  50.\n",
            "  28.  -9. -19.  -8.]\n"
          ]
        }
      ],
      "source": [
        "challenge_id = 'myUniqueIdentifier49831221' # identifier for hidden dataset\n",
        "n = 100 # number of entries in hidden dataset\n",
        "num_queries = 2*n # number of queries to be asked\n",
        "\n",
        "queries = np.random.choice([-1,+1], size=(num_queries,n)) # Set of random queries\n",
        "query_results = query(challenge_id, queries)\n",
        "\n",
        "print(query_results)"
      ]
    },
    {
      "cell_type": "markdown",
      "source": [
        "# Baseline reconstruction attack: Guess equals the best query\n",
        "\n",
        "Copy the notebook and replace with your attack. The first submission for a given challenge_id is stored on the server and on the leaderboard: http://baconbreaker.pythonanywhere.com/leaderboard/?n=100"
      ],
      "metadata": {
        "id": "uiUoCqxtknZj"
      }
    },
    {
      "cell_type": "markdown",
      "source": [
        "**Tip**: to solve a linear program you can use the following import:\n",
        "\n",
        "```\n",
        "from scipy.optimize import linprog\n",
        "```\n",
        "\n"
      ],
      "metadata": {
        "id": "wBzhULS8lfJf"
      }
    },
    {
      "cell_type": "code",
      "source": [
        "best_query_number = np.argmax(query_results)\n",
        "best_query = queries[best_query_number]\n",
        "best_query_result = query(challenge_id, best_query, submit=True)\n",
        "print(f\"\\nReconstruction attack achieves fraction {(1 + best_query_result / n) / 2} correct values\")"
      ],
      "metadata": {
        "colab": {
          "base_uri": "https://localhost:8080/"
        },
        "id": "KNEVYeK5klgu",
        "outputId": "28db8286-ea7e-45a1-cefd-b70c3f77ac34"
      },
      "execution_count": null,
      "outputs": [
        {
          "output_type": "stream",
          "name": "stdout",
          "text": [
            "\n",
            "Reconstruction attack achieves fraction 0.55 correct values\n"
          ]
        }
      ]
    }
  ]
}